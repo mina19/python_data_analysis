{
 "cells": [
  {
   "cell_type": "code",
   "execution_count": 1,
   "metadata": {},
   "outputs": [],
   "source": [
    "import numpy as np\n",
    "import matplotlib.pyplot as plt"
   ]
  },
  {
   "cell_type": "code",
   "execution_count": 2,
   "metadata": {},
   "outputs": [],
   "source": [
    "v1 = np.random.rand(10)\n",
    "v2 = np.random.rand(10)"
   ]
  },
  {
   "cell_type": "code",
   "execution_count": 3,
   "metadata": {},
   "outputs": [
    {
     "data": {
      "text/plain": [
       "array([0.94410259, 0.92969584, 0.6991807 , 0.31698886, 0.89009397,\n",
       "       0.94707395, 0.12940249, 0.80320645, 0.12704803, 0.05971326])"
      ]
     },
     "execution_count": 3,
     "metadata": {},
     "output_type": "execute_result"
    }
   ],
   "source": [
    "v1"
   ]
  },
  {
   "cell_type": "code",
   "execution_count": 4,
   "metadata": {},
   "outputs": [
    {
     "data": {
      "text/plain": [
       "array([0.76833574, 0.94269464, 0.56806743, 0.59958879, 0.62056464,\n",
       "       0.20540572, 0.73289988, 0.7161857 , 0.97145272, 0.91026496])"
      ]
     },
     "execution_count": 4,
     "metadata": {},
     "output_type": "execute_result"
    }
   ],
   "source": [
    "v2"
   ]
  },
  {
   "cell_type": "code",
   "execution_count": 5,
   "metadata": {},
   "outputs": [],
   "source": [
    "sequence = np.linspace(v1.min(), v1.max(), num = len(v1)*10)"
   ]
  },
  {
   "cell_type": "code",
   "execution_count": 6,
   "metadata": {},
   "outputs": [
    {
     "data": {
      "text/plain": [
       "array([0.05971326, 0.0686765 , 0.07763974, 0.08660298, 0.09556622,\n",
       "       0.10452946, 0.1134927 , 0.12245594, 0.13141918, 0.14038242,\n",
       "       0.14934565, 0.15830889, 0.16727213, 0.17623537, 0.18519861,\n",
       "       0.19416185, 0.20312509, 0.21208833, 0.22105157, 0.23001481,\n",
       "       0.23897805, 0.24794129, 0.25690453, 0.26586776, 0.274831  ,\n",
       "       0.28379424, 0.29275748, 0.30172072, 0.31068396, 0.3196472 ,\n",
       "       0.32861044, 0.33757368, 0.34653692, 0.35550016, 0.3644634 ,\n",
       "       0.37342664, 0.38238988, 0.39135311, 0.40031635, 0.40927959,\n",
       "       0.41824283, 0.42720607, 0.43616931, 0.44513255, 0.45409579,\n",
       "       0.46305903, 0.47202227, 0.48098551, 0.48994875, 0.49891199,\n",
       "       0.50787522, 0.51683846, 0.5258017 , 0.53476494, 0.54372818,\n",
       "       0.55269142, 0.56165466, 0.5706179 , 0.57958114, 0.58854438,\n",
       "       0.59750762, 0.60647086, 0.6154341 , 0.62439733, 0.63336057,\n",
       "       0.64232381, 0.65128705, 0.66025029, 0.66921353, 0.67817677,\n",
       "       0.68714001, 0.69610325, 0.70506649, 0.71402973, 0.72299297,\n",
       "       0.73195621, 0.74091945, 0.74988268, 0.75884592, 0.76780916,\n",
       "       0.7767724 , 0.78573564, 0.79469888, 0.80366212, 0.81262536,\n",
       "       0.8215886 , 0.83055184, 0.83951508, 0.84847832, 0.85744156,\n",
       "       0.86640479, 0.87536803, 0.88433127, 0.89329451, 0.90225775,\n",
       "       0.91122099, 0.92018423, 0.92914747, 0.93811071, 0.94707395])"
      ]
     },
     "execution_count": 6,
     "metadata": {},
     "output_type": "execute_result"
    }
   ],
   "source": [
    "sequence"
   ]
  },
  {
   "cell_type": "code",
   "execution_count": 14,
   "metadata": {},
   "outputs": [],
   "source": [
    "coefs = np.polyfit(v1,v2,3)"
   ]
  },
  {
   "cell_type": "code",
   "execution_count": 8,
   "metadata": {},
   "outputs": [
    {
     "data": {
      "text/plain": [
       "array([-2.88147799,  5.38090558, -3.04165284,  1.12457287])"
      ]
     },
     "execution_count": 8,
     "metadata": {},
     "output_type": "execute_result"
    }
   ],
   "source": [
    "coefs"
   ]
  },
  {
   "cell_type": "code",
   "execution_count": 15,
   "metadata": {},
   "outputs": [],
   "source": [
    "polynomial_sequence = np.polyval(coefs,sequence)"
   ]
  },
  {
   "cell_type": "code",
   "execution_count": 16,
   "metadata": {},
   "outputs": [
    {
     "data": {
      "image/png": "[encoded data removed]",
      "text/plain": [
       "<Figure size 432x288 with 1 Axes>"
      ]
     },
     "metadata": {
      "needs_background": "light"
     },
     "output_type": "display_data"
    }
   ],
   "source": [
    "plt.plot(sequence, polynomial_sequence)\n",
    "plt.show()"
   ]
  },
  {
   "cell_type": "code",
   "execution_count": 12,
   "metadata": {},
   "outputs": [],
   "source": [
    "plt.show()"
   ]
  },
  {
   "cell_type": "code",
   "execution_count": 18,
   "metadata": {},
   "outputs": [],
   "source": [
    "v1 = np.array([1,2,3,4,5])\n",
    "v2 = np.array([1,4,9,16,25])"
   ]
  },
  {
   "cell_type": "code",
   "execution_count": 19,
   "metadata": {},
   "outputs": [],
   "source": [
    "coefs = np.polyfit(v1,v2,2)"
   ]
  },
  {
   "cell_type": "code",
   "execution_count": 20,
   "metadata": {},
   "outputs": [
    {
     "data": {
      "text/plain": [
       "array([ 1.00000000e+00, -2.46335911e-14,  3.81195286e-14])"
      ]
     },
     "execution_count": 20,
     "metadata": {},
     "output_type": "execute_result"
    }
   ],
   "source": [
    "coefs"
   ]
  },
  {
   "cell_type": "code",
   "execution_count": 21,
   "metadata": {},
   "outputs": [],
   "source": [
    "sequence = np.linspace(v1.min(), v1.max(), num = len(v1)*10)"
   ]
  },
  {
   "cell_type": "code",
   "execution_count": 22,
   "metadata": {},
   "outputs": [
    {
     "data": {
      "text/plain": [
       "array([1.        , 1.08163265, 1.16326531, 1.24489796, 1.32653061,\n",
       "       1.40816327, 1.48979592, 1.57142857, 1.65306122, 1.73469388,\n",
       "       1.81632653, 1.89795918, 1.97959184, 2.06122449, 2.14285714,\n",
       "       2.2244898 , 2.30612245, 2.3877551 , 2.46938776, 2.55102041,\n",
       "       2.63265306, 2.71428571, 2.79591837, 2.87755102, 2.95918367,\n",
       "       3.04081633, 3.12244898, 3.20408163, 3.28571429, 3.36734694,\n",
       "       3.44897959, 3.53061224, 3.6122449 , 3.69387755, 3.7755102 ,\n",
       "       3.85714286, 3.93877551, 4.02040816, 4.10204082, 4.18367347,\n",
       "       4.26530612, 4.34693878, 4.42857143, 4.51020408, 4.59183673,\n",
       "       4.67346939, 4.75510204, 4.83673469, 4.91836735, 5.        ])"
      ]
     },
     "execution_count": 22,
     "metadata": {},
     "output_type": "execute_result"
    }
   ],
   "source": [
    "sequence"
   ]
  },
  {
   "cell_type": "code",
   "execution_count": 23,
   "metadata": {},
   "outputs": [],
   "source": [
    "polynomial_sequence = np.polyval(coefs, sequence)"
   ]
  },
  {
   "cell_type": "code",
   "execution_count": 24,
   "metadata": {},
   "outputs": [
    {
     "data": {
      "text/plain": [
       "[<matplotlib.lines.Line2D at 0x1b53d92ed00>]"
      ]
     },
     "execution_count": 24,
     "metadata": {},
     "output_type": "execute_result"
    },
    {
     "data": {
      "image/png": "[encoded data removed]",
      "text/plain": [
       "<Figure size 432x288 with 1 Axes>"
      ]
     },
     "metadata": {
      "needs_background": "light"
     },
     "output_type": "display_data"
    }
   ],
   "source": [
    "plt.plot(sequence, polynomial_sequence)"
   ]
  },
  {
   "cell_type": "code",
   "execution_count": 26,
   "metadata": {},
   "outputs": [],
   "source": [
    "mat = np.mat([[2,4], [5,7]])"
   ]
  },
  {
   "cell_type": "code",
   "execution_count": 28,
   "metadata": {},
   "outputs": [
    {
     "name": "stdout",
     "output_type": "stream",
     "text": [
      "Matrix:\n",
      " [[2 4]\n",
      " [5 7]]\n"
     ]
    }
   ],
   "source": [
    "print(\"Matrix:\\n\", mat)"
   ]
  },
  {
   "cell_type": "code",
   "execution_count": 29,
   "metadata": {},
   "outputs": [
    {
     "name": "stdout",
     "output_type": "stream",
     "text": [
      "Determinant:  -5.999999999999998\n"
     ]
    }
   ],
   "source": [
    "print(\"Determinant: \", np.linalg.det(mat))"
   ]
  },
  {
   "cell_type": "code",
   "execution_count": 30,
   "metadata": {},
   "outputs": [],
   "source": [
    "from numpy.linalg import matrix_rank"
   ]
  },
  {
   "cell_type": "code",
   "execution_count": 31,
   "metadata": {},
   "outputs": [],
   "source": [
    "mat = np.array([[5,3,1], [5,3,1], [1,0,5]])"
   ]
  },
  {
   "cell_type": "code",
   "execution_count": 32,
   "metadata": {},
   "outputs": [
    {
     "name": "stdout",
     "output_type": "stream",
     "text": [
      "Matrix:\n",
      " [[5 3 1]\n",
      " [5 3 1]\n",
      " [1 0 5]]\n",
      "Rank: 2\n"
     ]
    }
   ],
   "source": [
    "print(\"Matrix:\\n\", mat)\n",
    "print(\"Rank:\", matrix_rank(mat))"
   ]
  },
  {
   "cell_type": "code",
   "execution_count": 41,
   "metadata": {},
   "outputs": [
    {
     "name": "stdout",
     "output_type": "stream",
     "text": [
      "Input Matrix:\n",
      " [[2 4]\n",
      " [5 7]]\n"
     ]
    }
   ],
   "source": [
    "mat = np.mat([[2,4],[5,7]])\n",
    "print(\"Input Matrix:\\n\",mat)"
   ]
  },
  {
   "cell_type": "code",
   "execution_count": 42,
   "metadata": {},
   "outputs": [
    {
     "name": "stdout",
     "output_type": "stream",
     "text": [
      "Inverse:\n",
      " [[-1.16666667  0.66666667]\n",
      " [ 0.83333333 -0.33333333]]\n"
     ]
    }
   ],
   "source": [
    "inverse = np.linalg.inv(mat)\n",
    "print(\"Inverse:\\n\",inverse)"
   ]
  },
  {
   "cell_type": "code",
   "execution_count": 46,
   "metadata": {},
   "outputs": [
    {
     "name": "stdout",
     "output_type": "stream",
     "text": [
      "Matrix A:\n",
      " [[1 1]\n",
      " [3 2]]\n",
      "Vector B: [200 450]\n",
      "Vector C:\n",
      " [[200]\n",
      " [450]]\n"
     ]
    }
   ],
   "source": [
    "A = np.mat([[1,1],[3,2]])\n",
    "print(\"Matrix A:\\n\", A)\n",
    "B = np.array([200,450])\n",
    "print(\"Vector B:\", B)\n",
    "C = np.mat([[200],[450]])\n",
    "print(\"Vector C:\\n\", C)"
   ]
  },
  {
   "cell_type": "code",
   "execution_count": 51,
   "metadata": {},
   "outputs": [
    {
     "name": "stdout",
     "output_type": "stream",
     "text": [
      "Solution vector x: [ 50. 150.]\n"
     ]
    }
   ],
   "source": [
    "solution = np.linalg.solve(A,B)\n",
    "print(\"Solution vector x:\", solution)"
   ]
  },
  {
   "cell_type": "code",
   "execution_count": 52,
   "metadata": {},
   "outputs": [
    {
     "name": "stdout",
     "output_type": "stream",
     "text": [
      "Result: [[200. 450.]]\n"
     ]
    }
   ],
   "source": [
    "print(\"Result:\", np.dot(A,solution))"
   ]
  },
  {
   "cell_type": "code",
   "execution_count": 53,
   "metadata": {},
   "outputs": [],
   "source": [
    "import numpy as np\n",
    "from scipy.linalg import svd"
   ]
  },
  {
   "cell_type": "code",
   "execution_count": 60,
   "metadata": {},
   "outputs": [],
   "source": [
    "matA = np.mat([[5,3,1],[5,3,0], [1,0,5]])\n",
    "matB = np.array([[5,3,1],[5,3,0],[1,0,5]])"
   ]
  },
  {
   "cell_type": "code",
   "execution_count": 61,
   "metadata": {},
   "outputs": [
    {
     "name": "stdout",
     "output_type": "stream",
     "text": [
      "matrix A:\n",
      " [[5 3 1]\n",
      " [5 3 0]\n",
      " [1 0 5]]\n",
      "matrix B:\n",
      " [[5 3 1]\n",
      " [5 3 0]\n",
      " [1 0 5]]\n"
     ]
    }
   ],
   "source": [
    "print(\"matrix A:\\n\", matA)\n",
    "print(\"matrix B:\\n\", matB)"
   ]
  },
  {
   "cell_type": "code",
   "execution_count": 66,
   "metadata": {},
   "outputs": [
    {
     "data": {
      "text/plain": [
       "(numpy.matrix, numpy.ndarray)"
      ]
     },
     "execution_count": 66,
     "metadata": {},
     "output_type": "execute_result"
    }
   ],
   "source": [
    "type(matA), type(matB)"
   ]
  },
  {
   "cell_type": "code",
   "execution_count": 67,
   "metadata": {},
   "outputs": [],
   "source": [
    "U,Sigma,V_transpose = svd(matA)"
   ]
  },
  {
   "cell_type": "code",
   "execution_count": 68,
   "metadata": {},
   "outputs": [
    {
     "name": "stdout",
     "output_type": "stream",
     "text": [
      "Lef Singular Matrix: [[-0.70097269 -0.06420281 -0.7102924 ]\n",
      " [-0.6748668  -0.26235919  0.68972636]\n",
      " [-0.23063411  0.9628321   0.14057828]]\n",
      "Diagonal Matrix: [8.42757145 4.89599358 0.07270729]\n",
      "Right Singular Matrix: [[-0.84363943 -0.48976369 -0.2200092 ]\n",
      " [-0.13684207 -0.20009952  0.97017237]\n",
      " [ 0.51917893 -0.84858218 -0.10179157]]\n"
     ]
    }
   ],
   "source": [
    "print(\"Lef Singular Matrix:\",U)\n",
    "print(\"Diagonal Matrix:\", Sigma)\n",
    "print(\"Right Singular Matrix:\", V_transpose)"
   ]
  },
  {
   "cell_type": "code",
   "execution_count": 69,
   "metadata": {},
   "outputs": [],
   "source": [
    "U,Sigma,V_transpose = svd(matB)"
   ]
  },
  {
   "cell_type": "code",
   "execution_count": 70,
   "metadata": {},
   "outputs": [
    {
     "name": "stdout",
     "output_type": "stream",
     "text": [
      "Left Singular Matrix: [[-0.70097269 -0.06420281 -0.7102924 ]\n",
      " [-0.6748668  -0.26235919  0.68972636]\n",
      " [-0.23063411  0.9628321   0.14057828]]\n",
      "Diagonal Matrix: [8.42757145 4.89599358 0.07270729]\n",
      "Right Singular Matrix: [[-0.84363943 -0.48976369 -0.2200092 ]\n",
      " [-0.13684207 -0.20009952  0.97017237]\n",
      " [ 0.51917893 -0.84858218 -0.10179157]]\n"
     ]
    }
   ],
   "source": [
    "print(\"Left Singular Matrix:\",U)\n",
    "print(\"Diagonal Matrix:\", Sigma)\n",
    "print(\"Right Singular Matrix:\", V_transpose)"
   ]
  },
  {
   "cell_type": "code",
   "execution_count": 72,
   "metadata": {},
   "outputs": [
    {
     "data": {
      "text/plain": [
       "array([[ 1.00000000e+00,  4.46129563e-16, -2.09980585e-16],\n",
       "       [ 4.46129563e-16,  1.00000000e+00,  3.47306718e-16],\n",
       "       [-2.09980585e-16,  3.47306718e-16,  1.00000000e+00]])"
      ]
     },
     "execution_count": 72,
     "metadata": {},
     "output_type": "execute_result"
    }
   ],
   "source": [
    "np.dot(U,np.transpose(U))"
   ]
  },
  {
   "cell_type": "code",
   "execution_count": 73,
   "metadata": {},
   "outputs": [
    {
     "data": {
      "text/plain": [
       "array([[ 1.00000000e+00, -9.26993380e-18, -3.61672769e-16],\n",
       "       [-9.26993380e-18,  1.00000000e+00, -4.69732149e-17],\n",
       "       [-3.61672769e-16, -4.69732149e-17,  1.00000000e+00]])"
      ]
     },
     "execution_count": 73,
     "metadata": {},
     "output_type": "execute_result"
    }
   ],
   "source": [
    "np.dot(V_transpose,np.transpose(V_transpose))"
   ]
  },
  {
   "cell_type": "code",
   "execution_count": 77,
   "metadata": {},
   "outputs": [
    {
     "name": "stdout",
     "output_type": "stream",
     "text": [
      "Matrix:\n",
      " [[2 4]\n",
      " [5 7]]\n"
     ]
    }
   ],
   "source": [
    "mat = np.mat([[2,4],[5,7]])\n",
    "print(\"Matrix:\\n\", mat)"
   ]
  },
  {
   "cell_type": "code",
   "execution_count": 78,
   "metadata": {},
   "outputs": [
    {
     "name": "stdout",
     "output_type": "stream",
     "text": [
      "Eigenvalues: [-0.62347538  9.62347538]\n",
      "Eigenvectors: [[-0.83619408 -0.46462222]\n",
      " [ 0.54843365 -0.885509  ]]\n"
     ]
    }
   ],
   "source": [
    "eigenvalues, eigenvectors = np.linalg.eig(mat)\n",
    "print(\"Eigenvalues:\", eigenvalues)\n",
    "print(\"Eigenvectors:\", eigenvectors)"
   ]
  },
  {
   "cell_type": "code",
   "execution_count": 79,
   "metadata": {},
   "outputs": [],
   "source": [
    "eigenvalues = np.linalg.eigvals(mat)"
   ]
  },
  {
   "cell_type": "code",
   "execution_count": 80,
   "metadata": {},
   "outputs": [
    {
     "data": {
      "text/plain": [
       "array([-0.62347538,  9.62347538])"
      ]
     },
     "execution_count": 80,
     "metadata": {},
     "output_type": "execute_result"
    }
   ],
   "source": [
    "eigenvalues"
   ]
  },
  {
   "cell_type": "code",
   "execution_count": 81,
   "metadata": {},
   "outputs": [
    {
     "name": "stdout",
     "output_type": "stream",
     "text": [
      "random matrix: \n",
      " [[0.39122699 0.40706789 0.86424678]\n",
      " [0.27833924 0.92675288 0.67051553]\n",
      " [0.42495512 0.58037315 0.02922942]]\n"
     ]
    }
   ],
   "source": [
    "random_mat = np.random.random((3,3))\n",
    "print(\"random matrix: \\n\", random_mat)"
   ]
  },
  {
   "cell_type": "code",
   "execution_count": 112,
   "metadata": {},
   "outputs": [],
   "source": [
    "cash_balance = np.zeros(5000)"
   ]
  },
  {
   "cell_type": "code",
   "execution_count": 113,
   "metadata": {},
   "outputs": [
    {
     "data": {
      "text/plain": [
       "array([0., 0., 0., ..., 0., 0., 0.])"
      ]
     },
     "execution_count": 113,
     "metadata": {},
     "output_type": "execute_result"
    }
   ],
   "source": [
    "cash_balance\n"
   ]
  },
  {
   "cell_type": "code",
   "execution_count": 114,
   "metadata": {},
   "outputs": [],
   "source": [
    "cash_balance[0] = 500"
   ]
  },
  {
   "cell_type": "code",
   "execution_count": 115,
   "metadata": {},
   "outputs": [
    {
     "data": {
      "text/plain": [
       "array([500.,   0.,   0., ...,   0.,   0.,   0.])"
      ]
     },
     "execution_count": 115,
     "metadata": {},
     "output_type": "execute_result"
    }
   ],
   "source": [
    "cash_balance"
   ]
  },
  {
   "cell_type": "code",
   "execution_count": 116,
   "metadata": {},
   "outputs": [
    {
     "data": {
      "text/plain": [
       "array([5, 7, 4, ..., 4, 7, 7])"
      ]
     },
     "execution_count": 116,
     "metadata": {},
     "output_type": "execute_result"
    }
   ],
   "source": [
    "samples = np.random.binomial(9,0.5,size = len(cash_balance))\n",
    "samples"
   ]
  },
  {
   "cell_type": "code",
   "execution_count": 117,
   "metadata": {},
   "outputs": [],
   "source": [
    "for i in range(1,len(cash_balance)):\n",
    "    if samples[i] < 5:\n",
    "        cash_balance[i] = cash_balance[i-1] - 1\n",
    "    else:\n",
    "        cash_balance[i] = cash_balance[i-1]+1"
   ]
  },
  {
   "cell_type": "code",
   "execution_count": 118,
   "metadata": {},
   "outputs": [
    {
     "data": {
      "image/png": "[encoded data removed]",
      "text/plain": [
       "<Figure size 432x288 with 1 Axes>"
      ]
     },
     "metadata": {
      "needs_background": "light"
     },
     "output_type": "display_data"
    }
   ],
   "source": [
    "plt.plot(np.arange(len(cash_balance)), cash_balance)\n",
    "plt.show()"
   ]
  },
  {
   "cell_type": "code",
   "execution_count": 119,
   "metadata": {},
   "outputs": [],
   "source": [
    "import numpy as np\n",
    "import matplotlib.pyplot as plt"
   ]
  },
  {
   "cell_type": "code",
   "execution_count": 120,
   "metadata": {},
   "outputs": [],
   "source": [
    "sample_size = 225000\n",
    "sample = np.random.normal(size = sample_size)"
   ]
  },
  {
   "cell_type": "code",
   "execution_count": 123,
   "metadata": {},
   "outputs": [
    {
     "data": {
      "image/png": "[encoded data removed]",
      "text/plain": [
       "<Figure size 432x288 with 1 Axes>"
      ]
     },
     "metadata": {
      "needs_background": "light"
     },
     "output_type": "display_data"
    }
   ],
   "source": [
    "n, bins, patchlist = plt.hist(sample, int(np.sqrt(sample_size)), density=True)\n",
    "mu, sigma = 0,1\n",
    "x = bins\n",
    "y = 1/(sigma*np.sqrt(2*np.pi))*np.exp(-(bins - mu)**2 / (2*sigma**2))\n",
    "plt.plot(x,y,color='red',lw=2)\n",
    "plt.show()"
   ]
  },
  {
   "cell_type": "code",
   "execution_count": 124,
   "metadata": {},
   "outputs": [],
   "source": [
    "import numpy as np\n",
    "\n",
    "small_sample = np.random.normal(loc=100,scale=60, size = 15)\n",
    "medium_sample = np.random.normal(loc=100, scale = 60, size=100)\n",
    "large_sample = np.random.normal(loc=100, scale = 60, size = 1000)"
   ]
  },
  {
   "cell_type": "code",
   "execution_count": 125,
   "metadata": {},
   "outputs": [],
   "source": [
    "np.random.normal?"
   ]
  },
  {
   "cell_type": "code",
   "execution_count": 126,
   "metadata": {},
   "outputs": [],
   "source": [
    "import seaborn as sns\n",
    "import matplotlib.pyplot as plt"
   ]
  },
  {
   "cell_type": "code",
   "execution_count": 131,
   "metadata": {},
   "outputs": [
    {
     "name": "stderr",
     "output_type": "stream",
     "text": [
      "C:\\Users\\Min-A\\anaconda3\\lib\\site-packages\\seaborn\\distributions.py:2551: FutureWarning: `distplot` is a deprecated function and will be removed in a future version. Please adapt your code to use either `displot` (a figure-level function with similar flexibility) or `histplot` (an axes-level function for histograms).\n",
      "  warnings.warn(msg, FutureWarning)\n"
     ]
    },
    {
     "data": {
      "image/png": "[encoded data removed]",
      "text/plain": [
       "<Figure size 432x288 with 1 Axes>"
      ]
     },
     "metadata": {
      "needs_background": "light"
     },
     "output_type": "display_data"
    }
   ],
   "source": [
    "sns.distplot(small_sample)\n",
    "plt.show()"
   ]
  },
  {
   "cell_type": "code",
   "execution_count": 138,
   "metadata": {},
   "outputs": [
    {
     "data": {
      "image/png": "[encoded data removed]",
      "text/plain": [
       "<Figure size 360x360 with 1 Axes>"
      ]
     },
     "metadata": {
      "needs_background": "light"
     },
     "output_type": "display_data"
    }
   ],
   "source": [
    "sns.displot(small_sample,kde=True)\n",
    "plt.show()"
   ]
  },
  {
   "cell_type": "code",
   "execution_count": 139,
   "metadata": {},
   "outputs": [
    {
     "data": {
      "image/png": "[encoded data removed]",
      "text/plain": [
       "<Figure size 360x360 with 1 Axes>"
      ]
     },
     "metadata": {
      "needs_background": "light"
     },
     "output_type": "display_data"
    }
   ],
   "source": [
    "sns.displot(medium_sample, kde=True)\n",
    "plt.show()"
   ]
  },
  {
   "cell_type": "code",
   "execution_count": 141,
   "metadata": {},
   "outputs": [
    {
     "data": {
      "image/png": "[encoded data removed]",
      "text/plain": [
       "<Figure size 360x360 with 1 Axes>"
      ]
     },
     "metadata": {
      "needs_background": "light"
     },
     "output_type": "display_data"
    }
   ],
   "source": [
    "sns.displot(large_sample, kde=True)\n",
    "plt.show()"
   ]
  },
  {
   "cell_type": "code",
   "execution_count": 142,
   "metadata": {},
   "outputs": [],
   "source": [
    "from scipy.stats import shapiro"
   ]
  },
  {
   "cell_type": "code",
   "execution_count": 143,
   "metadata": {},
   "outputs": [
    {
     "name": "stdout",
     "output_type": "stream",
     "text": [
      "Shapiro-Wilk Test for Small Sample:  ShapiroResult(statistic=0.9551212191581726, pvalue=0.608357846736908)\n",
      "Shapiro-Wilk Test for Medium Sample:  ShapiroResult(statistic=0.9899872541427612, pvalue=0.6635603308677673)\n",
      "Shapiro-Wilk Test for Large Sample:  ShapiroResult(statistic=0.9988925457000732, pvalue=0.812913179397583)\n"
     ]
    }
   ],
   "source": [
    "print(\"Shapiro-Wilk Test for Small Sample: \", shapiro(small_sample))\n",
    "print(\"Shapiro-Wilk Test for Medium Sample: \", shapiro(medium_sample))\n",
    "print(\"Shapiro-Wilk Test for Large Sample: \", shapiro(large_sample))"
   ]
  },
  {
   "cell_type": "code",
   "execution_count": 144,
   "metadata": {},
   "outputs": [],
   "source": [
    "from scipy.stats import anderson, normaltest"
   ]
  },
  {
   "cell_type": "code",
   "execution_count": 145,
   "metadata": {},
   "outputs": [
    {
     "name": "stdout",
     "output_type": "stream",
     "text": [
      "Anderon Test for Small Sample:  AndersonResult(statistic=0.28369810090129377, critical_values=array([0.498, 0.568, 0.681, 0.794, 0.945]), significance_level=array([15. , 10. ,  5. ,  2.5,  1. ]))\n",
      "Anderson Test for Medium Sample:  AndersonResult(statistic=0.26545051693211974, critical_values=array([0.555, 0.632, 0.759, 0.885, 1.053]), significance_level=array([15. , 10. ,  5. ,  2.5,  1. ]))\n",
      "Anderson Test for Large Sample:  AndersonResult(statistic=0.2810231096370899, critical_values=array([0.574, 0.653, 0.784, 0.914, 1.088]), significance_level=array([15. , 10. ,  5. ,  2.5,  1. ]))\n"
     ]
    }
   ],
   "source": [
    "print(\"Anderon Test for Small Sample: \", anderson(small_sample))\n",
    "print(\"Anderson Test for Medium Sample: \", anderson(medium_sample))\n",
    "print(\"Anderson Test for Large Sample: \", anderson(large_sample))"
   ]
  },
  {
   "cell_type": "code",
   "execution_count": 146,
   "metadata": {},
   "outputs": [
    {
     "name": "stdout",
     "output_type": "stream",
     "text": [
      "Pearson Test for Small Sample:  NormaltestResult(statistic=2.1230840917119136, pvalue=0.3459219712913894)\n",
      "Pearson Test for Medium Sample:  NormaltestResult(statistic=1.5305117956207392, pvalue=0.4652148682748781)\n",
      "Pearson Test for Large Sample:  NormaltestResult(statistic=0.7208674978856027, pvalue=0.6973737753224574)\n"
     ]
    },
    {
     "name": "stderr",
     "output_type": "stream",
     "text": [
      "C:\\Users\\Min-A\\anaconda3\\lib\\site-packages\\scipy\\stats\\stats.py:1603: UserWarning: kurtosistest only valid for n>=20 ... continuing anyway, n=15\n",
      "  warnings.warn(\"kurtosistest only valid for n>=20 ... continuing \"\n"
     ]
    }
   ],
   "source": [
    "print(\"Pearson Test for Small Sample: \", normaltest(small_sample))\n",
    "print(\"Pearson Test for Medium Sample: \", normaltest(medium_sample))\n",
    "print(\"Pearson Test for Large Sample: \", normaltest(large_sample))"
   ]
  },
  {
   "cell_type": "code",
   "execution_count": 148,
   "metadata": {},
   "outputs": [],
   "source": [
    "import numpy as np\n",
    "from scipy.misc import face\n",
    "import matplotlib.pyplot as plt"
   ]
  },
  {
   "cell_type": "code",
   "execution_count": 149,
   "metadata": {},
   "outputs": [],
   "source": [
    "face_image = face()"
   ]
  },
  {
   "cell_type": "code",
   "execution_count": 153,
   "metadata": {},
   "outputs": [],
   "source": [
    "mask_random_array = np.random.randint(0,3,size = face_image.shape)"
   ]
  },
  {
   "cell_type": "code",
   "execution_count": null,
   "metadata": {},
   "outputs": [],
   "source": []
  }
 ],
 "metadata": {
  "kernelspec": {
   "display_name": "Python 3",
   "language": "python",
   "name": "python3"
  },
  "language_info": {
   "codemirror_mode": {
    "name": "ipython",
    "version": 3
   },
   "file_extension": ".py",
   "mimetype": "text/x-python",
   "name": "python",
   "nbconvert_exporter": "python",
   "pygments_lexer": "ipython3",
   "version": "3.8.5"
  }
 },
 "nbformat": 4,
 "nbformat_minor": 4
}
