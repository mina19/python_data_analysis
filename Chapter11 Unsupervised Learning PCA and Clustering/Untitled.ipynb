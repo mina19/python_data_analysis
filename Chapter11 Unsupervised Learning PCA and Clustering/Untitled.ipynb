{
 "cells": [
  {
   "cell_type": "code",
   "execution_count": 1,
   "metadata": {},
   "outputs": [],
   "source": [
    "import numpy as np\n",
    "from scipy import linalg as la"
   ]
  },
  {
   "cell_type": "code",
   "execution_count": 78,
   "metadata": {},
   "outputs": [
    {
     "name": "stdout",
     "output_type": "stream",
     "text": [
      "Eigenvalues: [0.74992815+0.j 3.67612927+0.j 8.27394258+0.j]\n",
      "Eigenvectors: [[-0.70172743  0.69903712 -0.1375708 ]\n",
      " [ 0.70745703  0.66088917 -0.25045969]\n",
      " [ 0.08416157  0.27307986  0.95830278]]\n"
     ]
    }
   ],
   "source": [
    "data = np.array([[7,4,3],\n",
    "                [4,1,8],\n",
    "                [6,3,5],\n",
    "                [8,6,1],\n",
    "                [8,5,7],\n",
    "                [7,2,9],\n",
    "                [5,3,3],\n",
    "                [9,5,8],\n",
    "                [7,4,5],\n",
    "                [8,2,2]])\n",
    "cov = np.cov(data, rowvar=False)\n",
    "evals,evecs = la.eig(cov)\n",
    "print('Eigenvalues:', evals)\n",
    "print('Eigenvectors:', evecs)"
   ]
  },
  {
   "cell_type": "code",
   "execution_count": 46,
   "metadata": {},
   "outputs": [],
   "source": [
    "data = data - data.mean(axis=0)\n",
    "cov = np.cov(data,rowvar=False)"
   ]
  },
  {
   "cell_type": "code",
   "execution_count": 51,
   "metadata": {
    "scrolled": true
   },
   "outputs": [
    {
     "name": "stdout",
     "output_type": "stream",
     "text": [
      "Eigenvalues: [0.74992815+0.j 3.67612927+0.j 8.27394258+0.j]\n",
      "Eigenvectors: [[-0.70172743  0.69903712 -0.1375708 ]\n",
      " [ 0.70745703  0.66088917 -0.25045969]\n",
      " [ 0.08416157  0.27307986  0.95830278]]\n"
     ]
    }
   ],
   "source": [
    "evals, evecs = la.eig(cov)\n",
    "print('Eigenvalues:', evals)\n",
    "print('Eigenvectors:', evecs)"
   ]
  },
  {
   "cell_type": "code",
   "execution_count": 80,
   "metadata": {},
   "outputs": [
    {
     "name": "stdout",
     "output_type": "stream",
     "text": [
      "Sorted and Selected Eigen Values: [8.27394258+0.j 3.67612927+0.j]\n",
      "Sorted and Selected Eigen Vectors: [[-0.1375708   0.69903712]\n",
      " [-0.25045969  0.66088917]\n",
      " [ 0.95830278  0.27307986]]\n",
      "Principal Components: [[-2.15142276 -0.17311941]\n",
      " [ 3.80418259 -2.88749898]\n",
      " [ 0.15321328 -0.98688598]\n",
      " [-4.7065185   1.30153634]\n",
      " [ 1.29375788  2.27912632]\n",
      " [ 4.0993133   0.1435814 ]\n",
      " [-1.62582148 -2.23208282]\n",
      " [ 2.11448986  3.2512433 ]\n",
      " [-0.2348172   0.37304031]\n",
      " [-2.74637697 -1.06894049]]\n"
     ]
    }
   ],
   "source": [
    "num_components = 2\n",
    "sorted_key = np.argsort(evals)[::-1][:num_components]\n",
    "evals, evecs = evals[sorted_key], evecs[:,sorted_key]\n",
    "print('Sorted and Selected Eigen Values:', evals)\n",
    "print('Sorted and Selected Eigen Vectors:', evecs)\n",
    "\n",
    "data = data - data.mean(axis=0)\n",
    "principal_components = np.dot(data,evecs)\n",
    "print('Principal Components:', principal_components)\n",
    "\n"
   ]
  },
  {
   "cell_type": "code",
   "execution_count": 75,
   "metadata": {},
   "outputs": [],
   "source": [
    "import pandas as pd\n",
    "from sklearn.decomposition import PCA"
   ]
  },
  {
   "cell_type": "code",
   "execution_count": 76,
   "metadata": {},
   "outputs": [],
   "source": [
    "data = np.array([[7,4,3],\n",
    "                [4,1,8],\n",
    "                [6,3,5],\n",
    "                [8,6,1],\n",
    "                [8,5,7],\n",
    "                [7,2,9],\n",
    "                [5,3,3],\n",
    "                [9,5,8],\n",
    "                [7,4,5],\n",
    "                [8,2,2]])"
   ]
  },
  {
   "cell_type": "code",
   "execution_count": 77,
   "metadata": {},
   "outputs": [
    {
     "name": "stdout",
     "output_type": "stream",
     "text": [
      "   principal_component_1  principal_component_2\n",
      "0               2.151423              -0.173119\n",
      "1              -3.804183              -2.887499\n",
      "2              -0.153213              -0.986886\n",
      "3               4.706518               1.301536\n",
      "4              -1.293758               2.279126\n",
      "5              -4.099313               0.143581\n",
      "6               1.625821              -2.232083\n",
      "7              -2.114490               3.251243\n",
      "8               0.234817               0.373040\n",
      "9               2.746377              -1.068940\n"
     ]
    }
   ],
   "source": [
    "pca_model = PCA(n_components=2)\n",
    "components = pca_model.fit_transform(data)\n",
    "components_df = pd.DataFrame(data=components, columns = ['principal_component_1', 'principal_component_2'])\n",
    "print(components_df)"
   ]
  },
  {
   "cell_type": "code",
   "execution_count": 111,
   "metadata": {},
   "outputs": [],
   "source": [
    "data = np.array([[10,11,8,3,2,1],\n",
    "                [6,4,5,3,2.8,1]])"
   ]
  },
  {
   "cell_type": "code",
   "execution_count": 112,
   "metadata": {},
   "outputs": [
    {
     "data": {
      "text/plain": [
       "array([5.83333333, 3.63333333])"
      ]
     },
     "execution_count": 112,
     "metadata": {},
     "output_type": "execute_result"
    }
   ],
   "source": [
    "data = data.T\n",
    "data.mean(axis=0)"
   ]
  },
  {
   "cell_type": "code",
   "execution_count": 113,
   "metadata": {},
   "outputs": [
    {
     "data": {
      "text/plain": [
       "array([[ 4.16666667,  2.36666667],\n",
       "       [ 5.16666667,  0.36666667],\n",
       "       [ 2.16666667,  1.36666667],\n",
       "       [-2.83333333, -0.63333333],\n",
       "       [-3.83333333, -0.83333333],\n",
       "       [-4.83333333, -2.63333333]])"
      ]
     },
     "execution_count": 113,
     "metadata": {},
     "output_type": "execute_result"
    }
   ],
   "source": [
    "data = data - data.mean(axis=0)\n",
    "data"
   ]
  },
  {
   "cell_type": "code",
   "execution_count": 114,
   "metadata": {},
   "outputs": [],
   "source": [
    "cov = np.cov(data,rowvar=False)"
   ]
  },
  {
   "cell_type": "code",
   "execution_count": 115,
   "metadata": {},
   "outputs": [
    {
     "data": {
      "text/plain": [
       "array([[18.96666667,  6.48666667],\n",
       "       [ 6.48666667,  3.12666667]])"
      ]
     },
     "execution_count": 115,
     "metadata": {},
     "output_type": "execute_result"
    }
   ],
   "source": [
    "cov"
   ]
  },
  {
   "cell_type": "code",
   "execution_count": 116,
   "metadata": {},
   "outputs": [],
   "source": [
    "evals, evecs = la.eig(cov)"
   ]
  },
  {
   "cell_type": "code",
   "execution_count": 117,
   "metadata": {},
   "outputs": [
    {
     "name": "stdout",
     "output_type": "stream",
     "text": [
      "Sorted and Selected Eigen Values: [21.28401224+0.j]\n",
      "Sorted and Selected Eigen Vectors: [[0.94171069]\n",
      " [0.33642381]]\n",
      "Principal Components: [[ 4.71999755]\n",
      " [ 4.98886062]\n",
      " [ 2.50015236]\n",
      " [-2.8812487 ]\n",
      " [-3.89024415]\n",
      " [-5.43751769]]\n"
     ]
    }
   ],
   "source": [
    "num_components = 1\n",
    "sorted_key = np.argsort(evals)[::-1][:num_components]\n",
    "evals, evecs = evals[sorted_key], evecs[:,sorted_key]\n",
    "print('Sorted and Selected Eigen Values:', evals)\n",
    "print('Sorted and Selected Eigen Vectors:', evecs)\n",
    "\n",
    "principal_components = np.dot(data,evecs)\n",
    "print('Principal Components:', principal_components)"
   ]
  },
  {
   "cell_type": "code",
   "execution_count": 126,
   "metadata": {},
   "outputs": [
    {
     "name": "stdout",
     "output_type": "stream",
     "text": [
      "[[-4.71999755]\n",
      " [-4.98886062]\n",
      " [-2.50015236]\n",
      " [ 2.8812487 ]\n",
      " [ 3.89024415]\n",
      " [ 5.43751769]]\n"
     ]
    }
   ],
   "source": [
    "data = np.array([[10,11,8,3,2,1],\n",
    "                [6,4,5,3,2.8,1]])\n",
    "\n",
    "data = data.T\n",
    "pca_model = PCA(n_components=1)\n",
    "components = pca_model.fit_transform(data)\n",
    "print(components)"
   ]
  },
  {
   "cell_type": "code",
   "execution_count": 127,
   "metadata": {},
   "outputs": [],
   "source": [
    "import pandas as pd\n",
    "import matplotlib.pyplot as plt\n",
    "from sklearn.cluster import KMeans"
   ]
  },
  {
   "cell_type": "code",
   "execution_count": 128,
   "metadata": {},
   "outputs": [],
   "source": [
    "data = pd.DataFrame({'X':[12,15,18,10,8,9,12,20], 'Y':[6,16,17,8,7,6,9,18]})\n",
    "wcss_list = []"
   ]
  },
  {
   "cell_type": "code",
   "execution_count": 132,
   "metadata": {},
   "outputs": [],
   "source": [
    "for i in range(1,6):\n",
    "    kmeans_model = KMeans(n_clusters = i, random_state = 123)\n",
    "    kmeans_model.fit(data)\n",
    "    wcss_list.append(kmeans_model.inertia_)"
   ]
  },
  {
   "cell_type": "code",
   "execution_count": 134,
   "metadata": {},
   "outputs": [
    {
     "data": {
      "image/png": "[encoded data removed]",
      "text/plain": [
       "<Figure size 432x288 with 1 Axes>"
      ]
     },
     "metadata": {
      "needs_background": "light"
     },
     "output_type": "display_data"
    }
   ],
   "source": [
    "plt.plot(range(1,6), wcss_list, marker='*')\n",
    "plt.title('Selecting Optimum Number of Clusters using Elbow Method')\n",
    "plt.xlabel('Number of Clusters K')\n",
    "plt.ylabel('Within-Cluster Sum of the Squares (Inertia)')\n",
    "plt.show()"
   ]
  },
  {
   "cell_type": "code",
   "execution_count": 135,
   "metadata": {},
   "outputs": [
    {
     "data": {
      "text/plain": [
       "[318.875, 34.266666666666666, 22.1, 10.833333333333334, 6.0]"
      ]
     },
     "execution_count": 135,
     "metadata": {},
     "output_type": "execute_result"
    }
   ],
   "source": [
    "wcss_list"
   ]
  },
  {
   "cell_type": "code",
   "execution_count": 150,
   "metadata": {},
   "outputs": [
    {
     "data": {
      "image/png": "[encoded data removed]",
      "text/plain": [
       "<Figure size 432x288 with 1 Axes>"
      ]
     },
     "metadata": {
      "needs_background": "light"
     },
     "output_type": "display_data"
    }
   ],
   "source": [
    "plt.scatter(data['X'], data['Y'], marker='*')\n",
    "plt.show()"
   ]
  },
  {
   "cell_type": "code",
   "execution_count": 144,
   "metadata": {},
   "outputs": [],
   "source": [
    "data['ydiff_sq']=(data['Y']-data.mean()['Y'])**2"
   ]
  },
  {
   "cell_type": "code",
   "execution_count": 146,
   "metadata": {},
   "outputs": [],
   "source": [
    "data['diff_sq_sum'] = data['xdiff_sq']+ data['ydiff_sq']"
   ]
  },
  {
   "cell_type": "code",
   "execution_count": 148,
   "metadata": {},
   "outputs": [
    {
     "data": {
      "text/plain": [
       "318.875"
      ]
     },
     "execution_count": 148,
     "metadata": {},
     "output_type": "execute_result"
    }
   ],
   "source": [
    "data['diff_sq_sum'].sum()"
   ]
  },
  {
   "cell_type": "code",
   "execution_count": 151,
   "metadata": {},
   "outputs": [],
   "source": [
    "import pandas as pd\n",
    "import matplotlib.pyplot as plt\n",
    "from sklearn.cluster import KMeans\n",
    "from sklearn.metrics import silhouette_score"
   ]
  },
  {
   "cell_type": "code",
   "execution_count": 152,
   "metadata": {},
   "outputs": [],
   "source": [
    "data = pd.DataFrame({'X':[12,15,18,10,8,9,12,20], 'Y':[6,16,17,8,7,6,9,18]})"
   ]
  },
  {
   "cell_type": "code",
   "execution_count": 153,
   "metadata": {},
   "outputs": [],
   "source": [
    "score_list = []"
   ]
  },
  {
   "cell_type": "code",
   "execution_count": 157,
   "metadata": {},
   "outputs": [],
   "source": [
    "for i in range(2,6):\n",
    "    kmeans_model = KMeans(n_clusters=i, random_state = 123)\n",
    "    kmeans_model.fit(data)\n",
    "    pred = kmeans_model.predict(data)\n",
    "    score = silhouette_score(data, pred, metric='euclidean')\n",
    "    score_list.append(score)"
   ]
  },
  {
   "cell_type": "code",
   "execution_count": 155,
   "metadata": {},
   "outputs": [
    {
     "data": {
      "image/png": "[encoded data removed]",
      "text/plain": [
       "<Figure size 432x288 with 1 Axes>"
      ]
     },
     "metadata": {
      "needs_background": "light"
     },
     "output_type": "display_data"
    }
   ],
   "source": [
    "plt.bar(range(2,6), score_list)\n",
    "plt.title('Silhouette Score Plot')\n",
    "plt.xlabel('Number of Clusters K')\n",
    "plt.ylabel('Silhouette Scores')\n",
    "plt.show()"
   ]
  },
  {
   "cell_type": "code",
   "execution_count": 158,
   "metadata": {},
   "outputs": [],
   "source": [
    "import pandas as pd\n",
    "import matplotlib.pyplot as plt\n",
    "from sklearn.cluster import KMeans"
   ]
  },
  {
   "cell_type": "code",
   "execution_count": 159,
   "metadata": {},
   "outputs": [],
   "source": [
    "data = pd.DataFrame({'X':[12,15,18,10,8,9,12,20], 'Y':[6,16,17,8,7,6,9,18]})"
   ]
  },
  {
   "cell_type": "code",
   "execution_count": 178,
   "metadata": {},
   "outputs": [],
   "source": [
    "num_clusters = 2"
   ]
  },
  {
   "cell_type": "code",
   "execution_count": 179,
   "metadata": {},
   "outputs": [],
   "source": [
    "km = KMeans(n_clusters = num_clusters)"
   ]
  },
  {
   "cell_type": "code",
   "execution_count": 180,
   "metadata": {},
   "outputs": [
    {
     "data": {
      "text/plain": [
       "KMeans(n_clusters=2)"
      ]
     },
     "execution_count": 180,
     "metadata": {},
     "output_type": "execute_result"
    }
   ],
   "source": [
    "km.fit(data)"
   ]
  },
  {
   "cell_type": "code",
   "execution_count": 181,
   "metadata": {},
   "outputs": [],
   "source": [
    "pred = km.predict(data)"
   ]
  },
  {
   "cell_type": "code",
   "execution_count": 190,
   "metadata": {},
   "outputs": [
    {
     "data": {
      "image/png": "[encoded data removed]",
      "text/plain": [
       "<Figure size 432x288 with 1 Axes>"
      ]
     },
     "metadata": {
      "needs_background": "light"
     },
     "output_type": "display_data"
    }
   ],
   "source": [
    "plt.scatter(data.X, data.Y, c=pred, marker='o', cmap = 'rainbow')\n",
    "plt.title('K-Means Clustering')\n",
    "plt.xlabel('X-Axis Values')\n",
    "plt.ylabel('Y-Axis Values')\n",
    "plt.show()"
   ]
  },
  {
   "cell_type": "code",
   "execution_count": 191,
   "metadata": {},
   "outputs": [],
   "source": [
    "import pandas as pd\n",
    "import matplotlib.pyplot as plt\n",
    "\n",
    "from scipy.cluster.hierarchy import dendrogram, linkage"
   ]
  },
  {
   "cell_type": "code",
   "execution_count": 192,
   "metadata": {},
   "outputs": [],
   "source": [
    "data = pd.DataFrame({'X':[12,15,18,10,8,9,12,20], 'Y':[6,16,17,8,7,6,9,18]})"
   ]
  },
  {
   "cell_type": "code",
   "execution_count": 200,
   "metadata": {},
   "outputs": [
    {
     "data": {
      "image/png": "[encoded data removed]",
      "text/plain": [
       "<Figure size 432x288 with 1 Axes>"
      ]
     },
     "metadata": {
      "needs_background": "light"
     },
     "output_type": "display_data"
    }
   ],
   "source": [
    "dendrogram_plot = dendrogram(linkage(data,method='ward'))\n",
    "plt.title('Hierarchical Clustering: Dendrogram')\n",
    "plt.xlabel('Data Items')\n",
    "plt.ylabel('Distance')\n",
    "plt.grid()\n",
    "plt.show()"
   ]
  },
  {
   "cell_type": "code",
   "execution_count": 194,
   "metadata": {},
   "outputs": [],
   "source": [
    "import pandas as pd\n",
    "import matplotlib.pyplot as plt\n",
    "from sklearn.cluster import AgglomerativeClustering"
   ]
  },
  {
   "cell_type": "code",
   "execution_count": 195,
   "metadata": {},
   "outputs": [],
   "source": [
    "data = pd.DataFrame({'X':[12,15,18,10,8,9,12,20], 'Y':[6,16,17,8,7,6,9,18]})"
   ]
  },
  {
   "cell_type": "code",
   "execution_count": 196,
   "metadata": {},
   "outputs": [],
   "source": [
    "num_clusters = 2"
   ]
  },
  {
   "cell_type": "code",
   "execution_count": 210,
   "metadata": {},
   "outputs": [],
   "source": [
    "ac = AgglomerativeClustering(n_clusters=num_clusters, linkage='complete')"
   ]
  },
  {
   "cell_type": "code",
   "execution_count": 211,
   "metadata": {},
   "outputs": [],
   "source": [
    "ac.fit(data)\n",
    "pred=ac.labels_"
   ]
  },
  {
   "cell_type": "code",
   "execution_count": 225,
   "metadata": {},
   "outputs": [
    {
     "data": {
      "image/png": "[encoded data removed]",
      "text/plain": [
       "<Figure size 432x288 with 1 Axes>"
      ]
     },
     "metadata": {
      "needs_background": "light"
     },
     "output_type": "display_data"
    }
   ],
   "source": [
    "plt.scatter(data.X, data.Y, c=pred, marker='o')\n",
    "plt.scatter(data.loc[5]['X'], data.loc[5]['Y'], marker='*')\n",
    "plt.scatter(data.loc[4]['X'], data.loc[4]['Y'], marker='*')\n",
    "plt.title('Agglomerative Clustering')\n",
    "plt.xlabel('X-Axis Values')\n",
    "plt.ylabel('Y-Axis Values')\n",
    "plt.show()"
   ]
  },
  {
   "cell_type": "code",
   "execution_count": null,
   "metadata": {},
   "outputs": [],
   "source": []
  },
  {
   "cell_type": "code",
   "execution_count": null,
   "metadata": {},
   "outputs": [],
   "source": []
  },
  {
   "cell_type": "code",
   "execution_count": null,
   "metadata": {},
   "outputs": [],
   "source": []
  }
 ],
 "metadata": {
  "kernelspec": {
   "display_name": "Python 3",
   "language": "python",
   "name": "python3"
  },
  "language_info": {
   "codemirror_mode": {
    "name": "ipython",
    "version": 3
   },
   "file_extension": ".py",
   "mimetype": "text/x-python",
   "name": "python",
   "nbconvert_exporter": "python",
   "pygments_lexer": "ipython3",
   "version": "3.8.5"
  }
 },
 "nbformat": 4,
 "nbformat_minor": 4
}
